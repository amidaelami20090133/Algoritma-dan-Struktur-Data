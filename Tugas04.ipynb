{
 "cells": [
  {
   "cell_type": "code",
   "execution_count": 2,
   "metadata": {},
   "outputs": [
    {
     "name": "stdout",
     "output_type": "stream",
     "text": [
      "hasil 8 + 12 = 20\n",
      "hasil 8 - 12 = -4\n",
      "hasil 8 * 12 = 96\n",
      "hasil 8 / 12 = 0.6666666666666666\n",
      "hasil 8 % 12 = 8\n",
      "hasil 8 ** 12 = 68719476736\n"
     ]
    }
   ],
   "source": [
    "#Nama Ami Daelami Ichsana\n",
    "#operator aritmatika\n",
    "a=8\n",
    "b=12\n",
    "#menggunakan operator penjumlahan \n",
    "c= a+b \n",
    "print(\"hasil\",a,\"+\",b,\"=\",c)\n",
    "\n",
    "#menggunakan operator pengurangan \n",
    "c= a-b\n",
    "print(\"hasil\",a,\"-\",b,\"=\",c)\n",
    "\n",
    "#menggunakan operator perkalian \n",
    "c= a*b\n",
    "print(\"hasil\",a,\"*\",b,\"=\",c)\n",
    "\n",
    "#menggunakan operator pembagian \n",
    "c= a/b\n",
    "print(\"hasil\",a,\"/\",b,\"=\",c)\n",
    "\n",
    "#menggunakan operator sisa bagi\n",
    "c= a%b\n",
    "print (\"hasil\",a,\"%\",b,\"=\",c)\n",
    "\n",
    "#menggunakan operator pemangkatan\n",
    "c= a**b\n",
    "print (\"hasil\",a,\"**\",b,\"=\",c)\n",
    "\n"
   ]
  },
  {
   "cell_type": "code",
   "execution_count": 13,
   "metadata": {},
   "outputs": [
    {
     "name": "stdout",
     "output_type": "stream",
     "text": [
      "20\n",
      "25\n",
      "20\n",
      "100\n",
      "20.0\n",
      "0.0\n",
      "0.0\n"
     ]
    }
   ],
   "source": [
    "#Ami Daelami Ichsana \n",
    "#operator penugasan \n",
    "a =20\n",
    "b =5\n",
    "\n",
    "#menggunakan operator pengisian \n",
    "a =20\n",
    "print (a)\n",
    "\n",
    "#menggunakan operator penjumlahan\n",
    "a += 5   #jumlahkan nilai adengan operator penugasan untuk menjumlahkan \n",
    "print (a)\n",
    "\n",
    "#menggunakan operator pengurangan\n",
    "a -= 5\n",
    "print (a)\n",
    "\n",
    "#menggunakan operator perkalian \n",
    "a *= 5\n",
    "print (a)\n",
    "\n",
    "#menggunakan operator pembagian \n",
    "a /= 5\n",
    "print (a)\n",
    "\n",
    "#menggunakan operator sisa bagi \n",
    "a %= 5\n",
    "print (a)\n",
    "\n",
    "#menggunakan operator pemangkatan\n",
    "a **= 5\n",
    "print (a)\n"
   ]
  },
  {
   "cell_type": "code",
   "execution_count": 22,
   "metadata": {},
   "outputs": [
    {
     "name": "stdout",
     "output_type": "stream",
     "text": [
      "Apakah a lebih dari b: True\n",
      "Apakah a kurang dari b: False\n",
      "Apakah a sama dengan b: False\n",
      "Apakah a tidak sama dengan b: True\n",
      "Apakah a lebih besar sama dengan b: True\n",
      "Apakah a kurang kecil sama dengan b: False\n"
     ]
    }
   ],
   "source": [
    "#Ami Daelami Ichsana \n",
    "#menggunakan operator pembanding \n",
    "a = 15\n",
    "b = 5\n",
    "\n",
    "#apakah a lebih besar dari b?\n",
    "c = a > b\n",
    "print (\"Apakah a lebih dari b:\", c)\n",
    "\n",
    "#apakah a kurang dari b?\n",
    "c = a < b\n",
    "print (\"Apakah a kurang dari b:\", c)\n",
    "\n",
    "#apakah a sama ddengan b?\n",
    "c = a == b \n",
    "print (\"Apakah a sama dengan b:\",c)\n",
    "\n",
    "#apakah a tidak sama dengan b?\n",
    "c = a != b\n",
    "print (\"Apakah a tidak sama dengan b:\",c)\n",
    "\n",
    "#apakah a lebih besar sama dengan b?\n",
    "c = a >= b\n",
    "print (\"Apakah a lebih besar sama dengan b:\",c)\n",
    "\n",
    "#apakah a kurang dari sama dengan b?\n",
    "c = a <= b\n",
    "print (\"Apakah a kurang kecil sama dengan b:\",c)\n"
   ]
  },
  {
   "cell_type": "code",
   "execution_count": 26,
   "metadata": {},
   "outputs": [
    {
     "name": "stdout",
     "output_type": "stream",
     "text": [
      "False\n",
      "True\n"
     ]
    }
   ],
   "source": [
    "#Ami Daelami Ichsana \n",
    "#operator logika \n",
    "a = True\n",
    "b = False \n",
    "\n",
    "#menggunakan logika AND\n",
    "c = a & b\n",
    "print(c)\n",
    "\n",
    "#menggunakan logika OR\n",
    "c = a or b\n",
    "print (c)\n",
    "\n",
    "#menggunakan negasi/kebalikan\n"
   ]
  },
  {
   "cell_type": "code",
   "execution_count": 12,
   "metadata": {},
   "outputs": [
    {
     "name": "stdout",
     "output_type": "stream",
     "text": [
      "Masukan nama bayi :hanna\n",
      "Masukan berat badan bayi (KG) :4\n",
      "berat badannya : 12 (ons)\n",
      "Hallo hanna berat badan mu adalah 12 KG, atau ons, 1 bulan kemudian 52\n"
     ]
    }
   ],
   "source": [
    "#Ami Daelami Ichsana\n",
    "#input output\n",
    "\n",
    "#mengambil input\n",
    "nama_bayi = (input(\"Masukan nama bayi :\"))\n",
    "\n",
    "#mengambil input\n",
    "berat_badan = int (input(\"Masukan berat badan bayi (KG) :\"))\n",
    "\n",
    "#prosess\n",
    "ons = berat_badan = 12\n",
    "berat_1bulan = ons + 40\n",
    "\n",
    "#mengambil output\n",
    "print (\"berat badannya :\", ons, \"(ons)\")\n",
    "print (\"Hallo\", nama_bayi, \"berat badan mu adalah\", berat_badan, \"KG,\", \"atau\", \"ons,\", \"1 bulan kemudian\", berat_1bulan)"
   ]
  },
  {
   "cell_type": "code",
   "execution_count": null,
   "metadata": {},
   "outputs": [],
   "source": []
  }
 ],
 "metadata": {
  "kernelspec": {
   "display_name": "Python 3",
   "language": "python",
   "name": "python3"
  },
  "language_info": {
   "codemirror_mode": {
    "name": "ipython",
    "version": 3
   },
   "file_extension": ".py",
   "mimetype": "text/x-python",
   "name": "python",
   "nbconvert_exporter": "python",
   "pygments_lexer": "ipython3",
   "version": "3.8.3"
  }
 },
 "nbformat": 4,
 "nbformat_minor": 4
}
