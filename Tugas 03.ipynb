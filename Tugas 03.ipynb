{
 "cells": [
  {
   "cell_type": "code",
   "execution_count": 2,
   "metadata": {},
   "outputs": [
    {
     "name": "stdout",
     "output_type": "stream",
     "text": [
      "berat badan ami daelami adalah 48\n"
     ]
    },
    {
     "ename": "NameError",
     "evalue": "name 'berat_badan' is not defined",
     "output_type": "error",
     "traceback": [
      "\u001b[1;31m---------------------------------------------------------------------------\u001b[0m",
      "\u001b[1;31mNameError\u001b[0m                                 Traceback (most recent call last)",
      "\u001b[1;32m<ipython-input-2-ad4450f344f8>\u001b[0m in \u001b[0;36m<module>\u001b[1;34m\u001b[0m\n\u001b[0;32m      6\u001b[0m \u001b[1;33m\u001b[0m\u001b[0m\n\u001b[0;32m      7\u001b[0m \u001b[1;32mdel\u001b[0m\u001b[1;33m(\u001b[0m\u001b[0mberat_badan\u001b[0m\u001b[1;33m)\u001b[0m\u001b[1;33m\u001b[0m\u001b[1;33m\u001b[0m\u001b[0m\n\u001b[1;32m----> 8\u001b[1;33m \u001b[0mprint\u001b[0m\u001b[1;33m(\u001b[0m\u001b[0mberat_badan\u001b[0m\u001b[1;33m)\u001b[0m\u001b[1;33m\u001b[0m\u001b[1;33m\u001b[0m\u001b[0m\n\u001b[0m",
      "\u001b[1;31mNameError\u001b[0m: name 'berat_badan' is not defined"
     ]
    }
   ],
   "source": [
    "#nama saya ami daelami\n",
    "\n",
    "\n",
    "berat_badan = 48 #variabel : berat_badan\n",
    "print(\"berat badan ami daelami adalah\",berat_badan)\n",
    "\n",
    "del(berat_badan)\n",
    "print(berat_badan)"
   ]
  },
  {
   "cell_type": "code",
   "execution_count": 4,
   "metadata": {},
   "outputs": [
    {
     "name": "stdout",
     "output_type": "stream",
     "text": [
      "keliling lingkaran sama dengan 314.0\n"
     ]
    }
   ],
   "source": [
    "r= 50\n",
    "phi= 3.14\n",
    "k= 2*phi*r\n",
    "print(\"keliling lingkaran sama dengan\",k)"
   ]
  },
  {
   "cell_type": "code",
   "execution_count": 5,
   "metadata": {},
   "outputs": [
    {
     "name": "stdout",
     "output_type": "stream",
     "text": [
      "True\n",
      "False\n"
     ]
    }
   ],
   "source": [
    "#ami daelami ichsana\n",
    "#perbandingan boolean\n",
    "\n",
    "perbandingan1 = 12 > 10\n",
    "perbandingan2 = 13 < 10\n",
    "print (perbandingan1)\n",
    "print (perbandingan2)"
   ]
  },
  {
   "cell_type": "code",
   "execution_count": 6,
   "metadata": {},
   "outputs": [
    {
     "name": "stdout",
     "output_type": "stream",
     "text": [
      "64.0\n",
      "0b1000000\n",
      "0x40\n"
     ]
    }
   ],
   "source": [
    "#ami daelami ichsana\n",
    "a= 64\n",
    "print (float (a))\n",
    "print (bin (a))\n",
    "print (hex (a))"
   ]
  },
  {
   "cell_type": "code",
   "execution_count": 2,
   "metadata": {},
   "outputs": [
    {
     "name": "stdout",
     "output_type": "stream",
     "text": [
      "Biodata Mahasiswa\n",
      "Nama : Ami daelami ichsana\n",
      "NIM :  20090133\n",
      "\n",
      "Dia mahasiswa semester 1 yang berprestasi, karena memiliki IPK sebesar 3.99\n"
     ]
    },
    {
     "ename": "NameError",
     "evalue": "name 'ipk' is not defined",
     "output_type": "error",
     "traceback": [
      "\u001b[1;31m---------------------------------------------------------------------------\u001b[0m",
      "\u001b[1;31mNameError\u001b[0m                                 Traceback (most recent call last)",
      "\u001b[1;32m<ipython-input-2-0fa54793d262>\u001b[0m in \u001b[0;36m<module>\u001b[1;34m\u001b[0m\n\u001b[0;32m     12\u001b[0m \u001b[1;33m\u001b[0m\u001b[0m\n\u001b[0;32m     13\u001b[0m \u001b[1;32mdel\u001b[0m \u001b[0mipk\u001b[0m\u001b[1;33m\u001b[0m\u001b[1;33m\u001b[0m\u001b[0m\n\u001b[1;32m---> 14\u001b[1;33m \u001b[0mprint\u001b[0m \u001b[1;33m(\u001b[0m\u001b[0mipk\u001b[0m\u001b[1;33m)\u001b[0m\u001b[1;33m\u001b[0m\u001b[1;33m\u001b[0m\u001b[0m\n\u001b[0m",
      "\u001b[1;31mNameError\u001b[0m: name 'ipk' is not defined"
     ]
    }
   ],
   "source": [
    "#ami daelami ichsana \n",
    "print (\"Biodata Mahasiswa\")\n",
    "\n",
    "nama = \"Ami daelami ichsana\"\n",
    "nim = \"\"\" 20090133\n",
    "\"\"\"\n",
    "semester = 1\n",
    "ipk = 3.99\n",
    "\n",
    "print (\"Nama :\", nama)\n",
    "print (\"NIM :\", nim)\n",
    "print (\"Dia mahasiswa semester\", semester , \"yang berprestasi, karena memiliki IPK sebesar\", ipk)\n",
    "\n",
    "del ipk\n",
    "print (ipk)"
   ]
  },
  {
   "cell_type": "code",
   "execution_count": null,
   "metadata": {},
   "outputs": [],
   "source": []
  }
 ],
 "metadata": {
  "kernelspec": {
   "display_name": "Python 3",
   "language": "python",
   "name": "python3"
  },
  "language_info": {
   "codemirror_mode": {
    "name": "ipython",
    "version": 3
   },
   "file_extension": ".py",
   "mimetype": "text/x-python",
   "name": "python",
   "nbconvert_exporter": "python",
   "pygments_lexer": "ipython3",
   "version": "3.8.3"
  }
 },
 "nbformat": 4,
 "nbformat_minor": 4
}
